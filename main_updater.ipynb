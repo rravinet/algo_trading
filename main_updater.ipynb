{
 "cells": [
  {
   "cell_type": "code",
   "execution_count": null,
   "metadata": {},
   "outputs": [],
   "source": [
    "import pandas as pd\n",
    "import numpy as np\n",
    "import matplotlib.pyplot as plt\n",
    "import plotly.graph_objects as go\n",
    "from data_fetcher import get_stock_data\n",
    "import plotly.graph_objects as go\n",
    "from sqlalchemy.orm import sessionmaker\n",
    "from sqlalchemy import create_engine, select\n",
    "from datetime import datetime, timedelta\n",
    "import logging\n",
    "from dotenv import load_dotenv\n",
    "import ta\n",
    "from algo_trading.Data.log_config import setup_logging\n",
    "from Fin_Database.Data.connect import engine, DailyStockData, HourlyStockData, OneMinuteStockData, FiveMinuteStockData,FifteenMinuteStockData, StockSplits, StockNews, CompanyFinancials\n",
    "from algo_trading.Pre_Processing.pre_processing import PreProcessing\n",
    "from algo_trading.Feature_Engineering.Featur_Engineering. import TechnicalIndicators"
   ]
  },
  {
   "cell_type": "code",
   "execution_count": null,
   "metadata": {},
   "outputs": [],
   "source": [
    "class Workflow:\n",
    "    def __init__(self, ticker, timespan):\n",
    "        self.ticker = ticker\n",
    "        self.timespan = timespan\n",
    "        \n",
    "    def get_data(self):\n",
    "        f'{self.ticker}_{self.timespan}' = get_stock_data(self.ticker, self.timespan)\n",
    "        return f'{self.ticker}_{self.timespan}'\n",
    "    \n",
    "    def preprocess_data(self):\n",
    "        data = self.get_data()\n",
    "        preprocessor = PreProcessing(data)\n",
    "        preprocessor.preprocess_data()\n",
    "        return preprocessor\n",
    "    \n",
    "    def feature_engineering(self):\n",
    "        preprocessor = self.preprocess_data()\n",
    "        fe = TechnicalIndicators(preprocessor)\n",
    "        fe.add_technical_indicators()\n",
    "        return fe\n",
    "    \n",
    "    "
   ]
  }
 ],
 "metadata": {
  "kernelspec": {
   "display_name": "base",
   "language": "python",
   "name": "python3"
  },
  "language_info": {
   "name": "python",
   "version": "3.11.7"
  }
 },
 "nbformat": 4,
 "nbformat_minor": 2
}
