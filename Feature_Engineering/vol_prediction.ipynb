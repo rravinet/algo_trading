{
 "cells": [
  {
   "cell_type": "code",
   "execution_count": 3,
   "metadata": {},
   "outputs": [],
   "source": [
    "import sys\n",
    "import os\n",
    "\n",
    "sys.path.append('/Users/raphaelravinet/Code')\n",
    "import plotly.graph_objects as go\n",
    "import pandas as pd\n",
    "import numpy as np\n",
    "from sqlalchemy.orm import sessionmaker\n",
    "from sqlalchemy import create_engine, select\n",
    "from datetime import datetime, timedelta\n",
    "import logging\n",
    "import matplotlib.pyplot as plt\n",
    "from dotenv import load_dotenv\n",
    "import ta\n",
    "from algo_trading.log_config import setup_logging\n",
    "from Fin_Database.Data.connect import engine, DailyStockData, HourlyStockData, OneMinuteStockData, FiveMinuteStockData,FifteenMinuteStockData, StockSplits, StockNews, CompanyFinancials\n",
    "from algo_trading.Pre_Processing.pre_processing import PreProcessing\n",
    "from algo_trading.Feature_Engineering.feature_engineering import TechnicalIndicators"
   ]
  },
  {
   "cell_type": "code",
   "execution_count": 4,
   "metadata": {},
   "outputs": [],
   "source": [
    "aapl_min = pd.read_parquet('/Users/raphaelravinet/Code/algo_trading/Datasets/Minute_Data/aapl_minute.parquet')\n",
    "msft_min = pd.read_parquet('/Users/raphaelravinet/Code/algo_trading/Datasets/Minute_Data/msft_minute.parquet')\n",
    "aapl_hourly = pd.read_parquet('/Users/raphaelravinet/Code/algo_trading/Datasets/Hourly_Data/aapl_hourly.parquet')\n",
    "msft_hourly = pd.read_parquet('/Users/raphaelravinet/Code/algo_trading/Datasets/Hourly_Data/msft_hourly.parquet')\n",
    "aapl_daily = pd.read_csv('/Users/raphaelravinet/Code/algo_trading/Datasets/Daily_Data/aapl_daily.csv')\n",
    "msft_daily = pd.read_csv('/Users/raphaelravinet/Code/algo_trading/Datasets/Daily_Data/msft_daily.csv')\n"
   ]
  },
  {
   "cell_type": "code",
   "execution_count": 5,
   "metadata": {},
   "outputs": [],
   "source": [
    "aapl_daily = PreProcessing(aapl_daily).setting_index().df\n",
    "msft_daily = PreProcessing(msft_daily).setting_index().df\n",
    "aapl_min = PreProcessing(aapl_min).filter_market_hours().setting_index().df\n",
    "msft_min = PreProcessing(msft_min).filter_market_hours().setting_index().df\n",
    "aapl_hourly = PreProcessing(aapl_hourly).filter_market_hours().setting_index().df\n",
    "msft_hourly = PreProcessing(msft_hourly).filter_market_hours().setting_index().df\n",
    "\n"
   ]
  },
  {
   "cell_type": "markdown",
   "metadata": {},
   "source": [
    "#### Applying the Approach from Young Li's Paper: \n",
    "**\"A Practical Model for Prediction of Intraday Volatility\"**\n",
    "\n",
    "**Potential Improvement:**\n",
    "\n",
    "1. **Change the daily vol model from EWMA to a GARCH-type model**\n"
   ]
  },
  {
   "cell_type": "code",
   "execution_count": 5,
   "metadata": {},
   "outputs": [],
   "source": [
    "class IntraBarsProfile:\n",
    "    def __init__(self, hf_df, lf_df, daily_df, timespan):\n",
    "        \"\"\"args:\n",
    "        hf_df: higher frequency dataframe\n",
    "        lf_df: lower frequency dataframe\n",
    "        daily_df: daily dataframe\n",
    "        timespan: timespan of the lower frequency data to aggregate : '15M', '1H', '1D', '1W....'\"\"\"\n",
    "        self.hf_df = hf_df\n",
    "        self.lf_df = lf_df\n",
    "        self.daily_df = daily_df\n",
    "        self.timespan = timespan\n",
    "        \n",
    "        \n",
    "    def hurst(self):\n",
    "        pass"
   ]
  },
  {
   "cell_type": "code",
   "execution_count": 6,
   "metadata": {},
   "outputs": [],
   "source": [
    "class IntradayVol(IntraBarsProfile):\n",
    "    def __init__(self, hf_df, lf_df, daily_df, timespan, decay_factor = 0.94):\n",
    "        super().__init__(hf_df, lf_df, daily_df, timespan)\n",
    "        self.decay_factor = decay_factor\n",
    "\n",
    "    \n",
    "    def calculate_daily_vol(self):\n",
    "        \"\"\" Calculate daily vol using EWMA model \"\"\"\n",
    "        self.daily_df['daily_vol_squared'] = np.zeros(len(self.daily_df), dtype=float)\n",
    "        \n",
    "        self.daily_df['squared_log_ret'] = self.daily_df['log_ret'] ** 2\n",
    "        self.daily_df['squared_log_ret'].bfill(inplace=True)\n",
    "\n",
    "        for i in range(1, len(self.daily_df)):\n",
    "            self.daily_df.loc[self.daily_df.index[i], 'daily_vol_squared'] = (\n",
    "                self.decay_factor * self.daily_df['daily_vol_squared'].iloc[i-1] +\n",
    "                (1 - self.decay_factor) * self.daily_df['squared_log_ret'].iloc[i]\n",
    "            )\n",
    "        \n",
    "        return np.sqrt(self.daily_df['daily_vol_squared'])\n",
    "\n",
    "\n",
    "    \n",
    "    def calculate_diurnal_profile(self):\n",
    "        \"\"\"Calculate diurnal profile. Basically the average of the Garman-Klass vol for each time of the day. \n",
    "        It is calculated using the aggregated data of the higher frequency data\"\"\"\n",
    "        aggregated_df = self.hf_df.groupby(self.hf_df.index.floor(self.timespan)).aggregate({'open': 'first', \n",
    "                                                               'high': 'max', \n",
    "                                                               'low': 'min', \n",
    "                                                               'close': 'last'})\n",
    "        garma_klass_vol = np.sqrt(0.5*(np.log(aggregated_df['high']) - np.log(aggregated_df['low']))**2 - (2 * np.log(2) -1) * (np.log(aggregated_df['close']) - np.log(aggregated_df['open']))**2)\n",
    "        q25 = garma_klass_vol.groupby(aggregated_df.index.time).quantile(0.25)\n",
    "        q50 = garma_klass_vol.groupby(aggregated_df.index.time).quantile(0.5)\n",
    "        q75 = garma_klass_vol.groupby(aggregated_df.index.time).quantile(0.75)\n",
    "        \n",
    "        diurnal_profile = (q25 + q50 + q75) / 3\n",
    "        diurnal_profile = diurnal_profile / diurnal_profile.mean()\n",
    "        \n",
    "        return diurnal_profile\n",
    "    \n",
    "    \n",
    "    def predict_vol(self):\n",
    "        \"\"\" Predict vol for the next time interval\"\"\"\n",
    "        daily_vol = self.calculate_daily_vol().shift(1)\n",
    "        diurnal_profile = self.calculate_diurnal_profile()\n",
    "        avg_diurnal_profile = diurnal_profile.mean()\n",
    "        \n",
    "        # time-scaling factor (rho_t)\n",
    "        time_scaling_factor = 1  \n",
    "\n",
    "        self.lf_df['vol_forecasts'] = np.nan\n",
    "        for i in range(len(self.lf_df)):\n",
    "            current_time = self.lf_df.index[i].time()\n",
    "            current_date = self.lf_df.index[i].date()\n",
    "            \n",
    "            daily_vol_value = daily_vol.loc[pd.Timestamp(current_date)]\n",
    "            if current_time in diurnal_profile.index:\n",
    "                self.lf_df.loc[self.lf_df.index[i], 'vol_forecasts'] = (\n",
    "                    daily_vol_value * time_scaling_factor * (diurnal_profile[current_time] / avg_diurnal_profile)\n",
    "                )\n",
    "            else:\n",
    "                self.lf_df.loc[self.lf_df.index[i], 'vol_forecasts'] = np.nan\n",
    "        return self.lf_df\n",
    "\n",
    "\n",
    "    \n",
    "        "
   ]
  },
  {
   "cell_type": "code",
   "execution_count": 7,
   "metadata": {},
   "outputs": [],
   "source": [
    "fast_periods = [5, 10, 30]\n",
    "slow_periods = [50, 100, 200,300]\n",
    "periods = fast_periods + slow_periods"
   ]
  },
  {
   "cell_type": "code",
   "execution_count": 8,
   "metadata": {},
   "outputs": [],
   "source": [
    "aapl_daily = TechnicalIndicators(aapl_daily).add_technical_indicators(periods)\n",
    "msft_daily = TechnicalIndicators(msft_daily).add_technical_indicators(periods)\n",
    "aapl_hourly = TechnicalIndicators(aapl_hourly).add_technical_indicators(periods)\n",
    "msft_hourly = TechnicalIndicators(msft_hourly).add_technical_indicators(periods)\n",
    "aapl_min = TechnicalIndicators(aapl_min).add_technical_indicators(periods)\n",
    "msft_min = TechnicalIndicators(msft_min).add_technical_indicators(periods)\n"
   ]
  },
  {
   "cell_type": "code",
   "execution_count": null,
   "metadata": {},
   "outputs": [],
   "source": [
    "timespan = '1H' \n",
    "aapl_vol_model = IntradayVol(hf_df=aapl_min, lf_df=aapl_hourly, daily_df=aapl_daily, timespan=timespan)\n",
    "msft_vol_model = IntradayVol(hf_df=msft_min, lf_df=msft_hourly, daily_df=msft_daily, timespan=timespan)"
   ]
  },
  {
   "cell_type": "code",
   "execution_count": null,
   "metadata": {},
   "outputs": [],
   "source": [
    "aapl_predicted_vol"
   ]
  },
  {
   "cell_type": "code",
   "execution_count": null,
   "metadata": {},
   "outputs": [],
   "source": [
    "# AAPL Volatility Calculations\n",
    "aapl_daily_vol = aapl_vol_model.calculate_daily_vol()\n",
    "aapl_diurnal_profile = aapl_vol_model.calculate_diurnal_profile()\n",
    "aapl_predicted_vol = aapl_vol_model.predict_vol()\n",
    "\n",
    "# MSFT Volatility Calculations\n",
    "msft_daily_vol = msft_vol_model.calculate_daily_vol()\n",
    "msft_diurnal_profile = msft_vol_model.calculate_diurnal_profile()\n",
    "msft_predicted_vol = msft_vol_model.predict_vol()\n"
   ]
  },
  {
   "cell_type": "code",
   "execution_count": null,
   "metadata": {},
   "outputs": [],
   "source": [
    "#Using the Garma Klass vol formula as target\n",
    "aapl_predicted_vol['target'] = (np.sqrt(0.5 * (np.log(aapl_predicted_vol['high']) - np.log(aapl_predicted_vol['low']))**2 -\n",
    "                              (2 * np.log(2) - 1) * (np.log(aapl_predicted_vol['close']) - np.log(aapl_predicted_vol['open']))**2)).shift(-1)"
   ]
  },
  {
   "cell_type": "code",
   "execution_count": null,
   "metadata": {},
   "outputs": [],
   "source": [
    "plt.figure(figsize=(15, 10))\n",
    "plt.plot(aapl_predicted_vol['vol_forecasts'], label='Forecasted Volatility')\n",
    "plt.plot(aapl_predicted_vol['target'], label='Target Volatility')\n",
    "plt.show()"
   ]
  },
  {
   "cell_type": "code",
   "execution_count": null,
   "metadata": {},
   "outputs": [],
   "source": [
    "plt.figure(figsize=(15, 10))\n",
    "plt.plot(aapl_predicted_vol['vol_forecasts'], label='Forecasted Volatility')\n",
    "plt.plot(np.abs(aapl_predicted_vol['log_ret']), label='Abs Log Ret')\n",
    "plt.show()"
   ]
  },
  {
   "cell_type": "code",
   "execution_count": null,
   "metadata": {},
   "outputs": [],
   "source": [
    "from sklearn.metrics import mean_squared_error as mse\n",
    "from sklearn.metrics import root_mean_squared_error as rmse"
   ]
  },
  {
   "cell_type": "code",
   "execution_count": null,
   "metadata": {},
   "outputs": [],
   "source": [
    "aapl_predicted_vol2 = aapl_predicted_vol.iloc[15:-1].copy()"
   ]
  },
  {
   "cell_type": "code",
   "execution_count": null,
   "metadata": {},
   "outputs": [],
   "source": [
    "rmse(aapl_predicted_vol2['vol_forecasts'], aapl_predicted_vol2['target'])"
   ]
  },
  {
   "cell_type": "code",
   "execution_count": null,
   "metadata": {},
   "outputs": [],
   "source": []
  }
 ],
 "metadata": {
  "kernelspec": {
   "display_name": "base",
   "language": "python",
   "name": "python3"
  },
  "language_info": {
   "codemirror_mode": {
    "name": "ipython",
    "version": 3
   },
   "file_extension": ".py",
   "mimetype": "text/x-python",
   "name": "python",
   "nbconvert_exporter": "python",
   "pygments_lexer": "ipython3",
   "version": "3.11.7"
  }
 },
 "nbformat": 4,
 "nbformat_minor": 2
}
