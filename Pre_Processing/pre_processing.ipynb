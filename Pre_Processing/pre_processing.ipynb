{
 "cells": [
  {
   "cell_type": "code",
   "execution_count": null,
   "metadata": {},
   "outputs": [],
   "source": [
    "\n",
    "import sys\n",
    "import os\n",
    "\n",
    "sys.path.append('/Users/raphaelravinet/Code')\n",
    "\n",
    "import pandas as pd\n",
    "import numpy as np\n",
    "from sqlalchemy.orm import sessionmaker\n",
    "from sqlalchemy import create_engine, select\n",
    "from datetime import datetime, timedelta\n",
    "import logging\n",
    "import matplotlib.pyplot as plt\n",
    "from dotenv import load_dotenv\n",
    "\n",
    "from algo_trading.log_config import setup_logging\n",
    "# from algo_trading.Data.data_fetching import "
   ]
  },
  {
   "cell_type": "code",
   "execution_count": null,
   "metadata": {},
   "outputs": [],
   "source": [
    "setup_logging()"
   ]
  },
  {
   "cell_type": "code",
   "execution_count": null,
   "metadata": {},
   "outputs": [],
   "source": [
    "class PreProcessing:\n",
    "    def __init__(self, df):\n",
    "        self.df = df\n",
    "        \n",
    "    def filter_market_hours(self):\n",
    "        ## filter the data to only keep the data during the market hours.\n",
    "        df = self.df.copy()\n",
    "        df['date'] = pd.to_datetime(df['date'])\n",
    "        df['time'] = df['date'].dt.time\n",
    "        start_time = datetime.strptime('09:30', '%H:%M').time()\n",
    "        end_time = datetime.strptime('16:05', '%H:%M').time()\n",
    "        df = df[(df['time'] >= start_time) & (df['time'] <= end_time)]\n",
    "        self.df = df.drop(columns=['time'])\n",
    "        return self\n",
    "    \n",
    "    \n",
    "    def setting_index(self):\n",
    "        self.df.index = self.df['date']\n",
    "        return self\n",
    "    \n",
    "    \n",
    "        ###need to add pre processing steps for the financial news and company level data"
   ]
  },
  {
   "cell_type": "code",
   "execution_count": null,
   "metadata": {},
   "outputs": [],
   "source": [
    "class FSPreProcessing:\n",
    "    def su"
   ]
  }
 ],
 "metadata": {
  "kernelspec": {
   "display_name": "base",
   "language": "python",
   "name": "python3"
  },
  "language_info": {
   "name": "python",
   "version": "3.11.7"
  }
 },
 "nbformat": 4,
 "nbformat_minor": 2
}
