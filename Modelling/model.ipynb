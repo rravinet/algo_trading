{
 "cells": [
  {
   "cell_type": "code",
   "execution_count": 1,
   "metadata": {},
   "outputs": [],
   "source": [
    "\n",
    "import sys\n",
    "import os\n",
    "import yaml\n",
    "\n",
    "sys.path.append(os.getenv(\"CODE_PATH\"))\n",
    "sys.path.append(os.getenv(\"FIN_DATABASE_PATH\"))\n",
    "\n",
    "\n",
    "import plotly.graph_objects as go\n",
    "import pandas as pd\n",
    "import numpy as np\n",
    "from datetime import datetime, timedelta\n",
    "import logging\n",
    "import matplotlib.pyplot as plt\n",
    "from dotenv import load_dotenv\n",
    "import ta\n",
    "from log_config import setup_logging\n",
    "from Data.connect import engine, DailyStockData, HourlyStockData, OneMinuteStockData, FiveMinuteStockData,FifteenMinuteStockData, StockSplits, StockNews, CompanyFinancials\n",
    "from Pre_Processing.pre_processing import PreProcessing\n",
    "from Feature_Engineering.feature_engineering import TechnicalIndicators\n",
    "from pipeline import Pipeline\n",
    "\n",
    "from sklearn.metrics import roc_auc_score, roc_curve, auc\n",
    "\n",
    "from xgboost import XGBClassifier\n",
    "from catboost import CatBoostClassifier\n",
    "from sklearn.ensemble import RandomForestClassifier\n",
    "from sklearn.metrics import roc_auc_score, roc_curve, auc, log_loss, confusion_matrix, ConfusionMatrixDisplay\n",
    "from sklearn.model_selection import TimeSeriesSplit"
   ]
  },
  {
   "cell_type": "code",
   "execution_count": 2,
   "metadata": {},
   "outputs": [],
   "source": [
    "wiki = 'http://en.wikipedia.org/wiki'\n",
    "djia_ticker_list = wiki + '/Dow_Jones_Industrial_Average'\n",
    "sp500_tickers_list = wiki + '/List_of_S%26P_500_companies'\n",
    "tickersSP500 = pd.read_html(sp500_tickers_list)[0].Symbol.to_list()\n",
    "djia_tickers = pd.read_html(djia_ticker_list)[1].Symbol.to_list()"
   ]
  },
  {
   "cell_type": "code",
   "execution_count": 3,
   "metadata": {},
   "outputs": [],
   "source": [
    "# tickers = ['AAPL', 'MSFT', 'DIS', 'V', 'JPM']"
   ]
  },
  {
   "cell_type": "code",
   "execution_count": 4,
   "metadata": {},
   "outputs": [],
   "source": [
    "tickers = ['AAPL', 'MSFT']"
   ]
  },
  {
   "cell_type": "code",
   "execution_count": 5,
   "metadata": {},
   "outputs": [],
   "source": [
    "pipe = Pipeline(tickers)"
   ]
  },
  {
   "cell_type": "code",
   "execution_count": 6,
   "metadata": {},
   "outputs": [],
   "source": [
    "data = pipe.pipeline()"
   ]
  },
  {
   "cell_type": "code",
   "execution_count": 7,
   "metadata": {},
   "outputs": [],
   "source": [
    "for df in data.values():\n",
    "    df['target'] = np.where(df['log_ret'] > 0, 1, 0)\n",
    "    df['target'] = df['target'].shift(-1)\n",
    "    df.dropna(inplace=True)"
   ]
  },
  {
   "cell_type": "code",
   "execution_count": 8,
   "metadata": {},
   "outputs": [],
   "source": [
    "# #Combining the data into a single dataframe\n",
    "\n",
    "# combined_df = pd.concat(\n",
    "#     [df.assign(ticker=ticker).set_index('ticker', append=True) for ticker, df in data.items()]\n",
    "# )\n",
    "\n",
    "# combined_df = combined_df.reorder_levels(['date', 'ticker'])\n",
    "\n",
    "\n",
    "# combined_df.index = combined_df.index.set_levels(pd.to_datetime(combined_df.index.levels[0]), level=0)\n",
    "\n",
    "# combined_df.sort_index(inplace=True)\n",
    "\n",
    "# combined_df.columns = combined_df.columns.str.lower()\n",
    "# combined_df.dropna(subset='target', inplace=True)\n",
    "# combined_df"
   ]
  },
  {
   "cell_type": "code",
   "execution_count": null,
   "metadata": {},
   "outputs": [],
   "source": [
    "# combined_df['target'] = np.where(combined_df['log_ret'] > 0,1,\n",
    "#                                 0)\n",
    "# combined_df['target'] = combined_df['target'].shift(-1)"
   ]
  },
  {
   "cell_type": "markdown",
   "metadata": {},
   "source": [
    "## Models\n",
    "Applying Decision Tree models"
   ]
  },
  {
   "cell_type": "code",
   "execution_count": 10,
   "metadata": {},
   "outputs": [],
   "source": [
    "features = [ 'open', 'high', 'low', 'close',\n",
    "       'volume', 'vwap', 'RSI_14', 'RSI_2', 'MACD', 'log_ret',\n",
    "       'ROC', 'Stoch', 'ADX', 'ADX_pos', 'ADX_neg', 'rolling_H-L_25',\n",
    "       'lower_band', 'ATR', 'IBS', 'OBV', 'ema_5', 'ema_10',\n",
    "        'ema_30', 'ema_50', 'ema_100',\n",
    "       'ema_200', 'ema_300']\n",
    "target = 'target'"
   ]
  },
  {
   "cell_type": "code",
   "execution_count": 11,
   "metadata": {},
   "outputs": [],
   "source": [
    "# features = [feature.lower() for feature in features]"
   ]
  },
  {
   "cell_type": "markdown",
   "metadata": {},
   "source": [
    "## Cross Validation"
   ]
  },
  {
   "cell_type": "code",
   "execution_count": 12,
   "metadata": {},
   "outputs": [],
   "source": [
    "#Testing different classifiers\n",
    "\n",
    "models = [\n",
    "    (\"XGBoost\", XGBClassifier()),\n",
    "    (\"CatBoost\", CatBoostClassifier(verbose=False)),\n",
    "    (\"RandomForest\", RandomForestClassifier())\n",
    "]"
   ]
  },
  {
   "cell_type": "code",
   "execution_count": 13,
   "metadata": {},
   "outputs": [],
   "source": [
    "tcsv= TimeSeriesSplit(n_splits=5)"
   ]
  },
  {
   "cell_type": "code",
   "execution_count": 14,
   "metadata": {},
   "outputs": [],
   "source": [
    "roc_auc_scores = {model_name: {} for model_name, _ in models}\n",
    "log_loss_scores = {model_name: {} for model_name, _ in models}"
   ]
  },
  {
   "cell_type": "code",
   "execution_count": 17,
   "metadata": {},
   "outputs": [],
   "source": [
    "results = {model_name: {} for model_name, _ in models}\n",
    "\n",
    "for ticker, df in data.items():\n",
    "    for model_name, _ in models:\n",
    "        results[model_name][ticker] = {\n",
    "            'roc_auc': [],\n",
    "            'log_loss': []\n",
    "        }\n",
    "    \n",
    "    fold_number = 1\n",
    "    for train_index, test_index in tcsv.split(df):\n",
    "        X_train, X_test = df[features].iloc[train_index], df[features].iloc[test_index]\n",
    "        y_train, y_test = df['target'].iloc[train_index], df['target'].iloc[test_index]\n",
    "        \n",
    "        for model_name, model in models:\n",
    "            model.fit(X_train, y_train)\n",
    "            y_proba = model.predict_proba(X_test)[:, 1]\n",
    "            \n",
    "            roc_auc = roc_auc_score(y_test, y_proba)\n",
    "            log_loss_value = log_loss(y_test, model.predict_proba(X_test))\n",
    "            \n",
    "            # Store the results for each fold\n",
    "            results[model_name][ticker]['roc_auc'].append((fold_number, roc_auc))\n",
    "            results[model_name][ticker]['log_loss'].append((fold_number, log_loss_value))\n",
    "        \n",
    "        fold_number += 1\n"
   ]
  },
  {
   "cell_type": "code",
   "execution_count": 18,
   "metadata": {},
   "outputs": [
    {
     "name": "stdout",
     "output_type": "stream",
     "text": [
      "Results for Model: XGBoost\n",
      "  Ticker: AAPL\n",
      "    Fold 1: ROC AUC = 0.5029, Log Loss = 1.2370\n",
      "    Fold 2: ROC AUC = 0.4882, Log Loss = 1.0915\n",
      "    Fold 3: ROC AUC = 0.5365, Log Loss = 0.8905\n",
      "    Fold 4: ROC AUC = 0.5352, Log Loss = 1.0653\n",
      "    Fold 5: ROC AUC = 0.5025, Log Loss = 1.0064\n",
      "\n",
      "  Ticker: MSFT\n",
      "    Fold 1: ROC AUC = 0.5659, Log Loss = 0.9808\n",
      "    Fold 2: ROC AUC = 0.5214, Log Loss = 1.0000\n",
      "    Fold 3: ROC AUC = 0.5379, Log Loss = 1.0222\n",
      "    Fold 4: ROC AUC = 0.5359, Log Loss = 0.9920\n",
      "    Fold 5: ROC AUC = 0.5336, Log Loss = 0.9623\n",
      "\n",
      "Results for Model: CatBoost\n",
      "  Ticker: AAPL\n",
      "    Fold 1: ROC AUC = 0.4992, Log Loss = 0.7738\n",
      "    Fold 2: ROC AUC = 0.4907, Log Loss = 0.8128\n",
      "    Fold 3: ROC AUC = 0.5243, Log Loss = 0.7314\n",
      "    Fold 4: ROC AUC = 0.5246, Log Loss = 0.7711\n",
      "    Fold 5: ROC AUC = 0.4837, Log Loss = 0.7594\n",
      "\n",
      "  Ticker: MSFT\n",
      "    Fold 1: ROC AUC = 0.5628, Log Loss = 0.7121\n",
      "    Fold 2: ROC AUC = 0.5312, Log Loss = 0.7259\n",
      "    Fold 3: ROC AUC = 0.5313, Log Loss = 0.7330\n",
      "    Fold 4: ROC AUC = 0.5622, Log Loss = 0.7094\n",
      "    Fold 5: ROC AUC = 0.5133, Log Loss = 0.7346\n",
      "\n",
      "Results for Model: RandomForest\n",
      "  Ticker: AAPL\n",
      "    Fold 1: ROC AUC = 0.4969, Log Loss = 0.7615\n",
      "    Fold 2: ROC AUC = 0.4688, Log Loss = 0.7428\n",
      "    Fold 3: ROC AUC = 0.5086, Log Loss = 0.7312\n",
      "    Fold 4: ROC AUC = 0.5074, Log Loss = 0.8125\n",
      "    Fold 5: ROC AUC = 0.4911, Log Loss = 0.7309\n",
      "\n",
      "  Ticker: MSFT\n",
      "    Fold 1: ROC AUC = 0.5484, Log Loss = 0.7077\n",
      "    Fold 2: ROC AUC = 0.5259, Log Loss = 0.7164\n",
      "    Fold 3: ROC AUC = 0.5104, Log Loss = 0.7066\n",
      "    Fold 4: ROC AUC = 0.5329, Log Loss = 0.7058\n",
      "    Fold 5: ROC AUC = 0.5413, Log Loss = 0.6978\n",
      "\n"
     ]
    }
   ],
   "source": [
    "for model_name, tickers in results.items():\n",
    "    print(f\"Results for Model: {model_name}\")\n",
    "    for ticker, metrics in tickers.items():\n",
    "        print(f\"  Ticker: {ticker}\")\n",
    "        for fold, roc_auc in metrics['roc_auc']:\n",
    "            log_loss_value = [ll for f, ll in metrics['log_loss'] if f == fold][0]\n",
    "            print(f\"    Fold {fold}: ROC AUC = {roc_auc:.4f}, Log Loss = {log_loss_value:.4f}\")\n",
    "        print()\n"
   ]
  }
 ],
 "metadata": {
  "kernelspec": {
   "display_name": "base",
   "language": "python",
   "name": "python3"
  },
  "language_info": {
   "codemirror_mode": {
    "name": "ipython",
    "version": 3
   },
   "file_extension": ".py",
   "mimetype": "text/x-python",
   "name": "python",
   "nbconvert_exporter": "python",
   "pygments_lexer": "ipython3",
   "version": "3.11.7"
  }
 },
 "nbformat": 4,
 "nbformat_minor": 2
}
