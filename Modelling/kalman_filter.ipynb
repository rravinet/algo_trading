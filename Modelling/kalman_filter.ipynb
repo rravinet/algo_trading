{
 "cells": [
  {
   "cell_type": "code",
   "execution_count": null,
   "metadata": {},
   "outputs": [],
   "source": [
    "import sys\n",
    "import os\n",
    "\n",
    "sys.path.append('/Users/raphaelravinet/Code')\n",
    "import plotly.graph_objects as go\n",
    "import pandas as pd\n",
    "import numpy as np\n",
    "from datetime import datetime, timedelta\n",
    "import logging\n",
    "import matplotlib.pyplot as plt\n",
    "from dotenv import load_dotenv\n",
    "import ta\n",
    "from algo_trading.Data.log_config import setup_logging\n",
    "from Fin_Database.Data.connect import engine, DailyStockData, HourlyStockData, OneMinuteStockData, FiveMinuteStockData,FifteenMinuteStockData, StockSplits, StockNews, CompanyFinancials\n",
    "# from algo_trading.Data.Pre_Processing.pre_processing import PreProcessing\n",
    "from pykalman import KalmanFilter\n",
    "from itertools import product\n",
    "\n",
    "from sklearn.metrics import roc_auc_score, roc_curve, auc\n",
    "\n",
    "from xgboost import XGBClassifier\n",
    "from catboost import CatBoostClassifier\n",
    "from sklearn.ensemble import RandomForestClassifier\n",
    "from sklearn.metrics import roc_auc_score, roc_curve, auc, log_loss, confusion_matrix, ConfusionMatrixDisplay"
   ]
  },
  {
   "cell_type": "code",
   "execution_count": null,
   "metadata": {},
   "outputs": [],
   "source": [
    "kf = KalmanFilter(transition_matrices=[1],\n",
    "                  observation_matrices=[1],\n",
    "                  initial_state_mean=0,\n",
    "                  initial_state_covariance=1,\n",
    "                  observation_covariance=1,\n",
    "                  transition_covariance=0.01)\n",
    "close_prices = data['close']\n",
    "state_means, state_cov = kf.filter(close_prices.values)\n",
    "kalman_avg = state_means.flatten()"
   ]
  }
 ],
 "metadata": {
  "language_info": {
   "name": "python"
  }
 },
 "nbformat": 4,
 "nbformat_minor": 2
}
