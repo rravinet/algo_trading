{
 "cells": [
  {
   "cell_type": "code",
   "execution_count": 1,
   "metadata": {},
   "outputs": [],
   "source": [
    "import sys\n",
    "import os\n",
    "\n",
    "sys.path.append('/Users/raphaelravinet/Code')\n",
    "\n",
    "import pandas as pd\n",
    "import numpy as np\n",
    "from sqlalchemy.orm import sessionmaker\n",
    "from sqlalchemy import create_engine, select\n",
    "from datetime import datetime, timedelta\n",
    "import logging\n",
    "import matplotlib.pyplot as plt\n",
    "from dotenv import load_dotenv\n",
    "\n",
    "from algo_trading.log_config import setup_logging\n",
    "from Fin_Database.Data.connect import engine, DailyStockData, HourlyStockData, OneMinuteStockData, FiveMinuteStockData,FifteenMinuteStockData, StockSplits, StockNews, CompanyFinancials"
   ]
  },
  {
   "cell_type": "code",
   "execution_count": 2,
   "metadata": {},
   "outputs": [],
   "source": [
    "load_dotenv()\n",
    "\n",
    "\n",
    "# %%\n",
    "username = os.getenv(\"DATABASE_USERNAME\")\n",
    "password = os.getenv(\"DATABASE_PASSWORD\")\n",
    "host = os.getenv(\"DATABASE_HOST\")\n",
    "port = os.getenv(\"DATABASE_PORT\")\n",
    "database = os.getenv(\"DATABASE_NAME\")\n",
    "\n",
    "\n",
    "# %%\n",
    "engine = create_engine(f'postgresql://{username}:{password}@{host}:{port}/{database}')"
   ]
  },
  {
   "cell_type": "code",
   "execution_count": 3,
   "metadata": {},
   "outputs": [],
   "source": [
    "Session = sessionmaker(bind = engine)\n",
    "session = Session()"
   ]
  },
  {
   "cell_type": "code",
   "execution_count": 4,
   "metadata": {},
   "outputs": [],
   "source": [
    "def get_stock_data(ticker, timespan='daily'):\n",
    "    logging.info(f'Getting {timespan} data for {ticker}')\n",
    "    if timespan == 'daily':\n",
    "        query = session.query(DailyStockData).filter(DailyStockData.ticker == ticker).order_by(DailyStockData.date)\n",
    "    elif timespan == 'hour':\n",
    "        query = session.query(HourlyStockData).filter(HourlyStockData.ticker == ticker).order_by(HourlyStockData.date)\n",
    "    elif timespan == 'minute':\n",
    "        query = session.query(OneMinuteStockData).filter(OneMinuteStockData.ticker == ticker).order_by(OneMinuteStockData.date)\n",
    "    elif timespan == '5minute':\n",
    "        query = session.query(FiveMinuteStockData).filter(FiveMinuteStockData.ticker == ticker).order_by(FiveMinuteStockData.date)\n",
    "    elif timespan == '15minute':\n",
    "        query = session.query(FifteenMinuteStockData).filter(FifteenMinuteStockData.ticker == ticker).order_by(FifteenMinuteStockData.date)\n",
    "    else:\n",
    "        logging.error('Invalid timespan. Must be daily, hour, minute, 5minute, or 15minute')\n",
    "        raise ValueError('timespan must be daily, hour, minute, 5minute, or 15minute')\n",
    "    \n",
    "    with engine.connect() as connection:\n",
    "        df = pd.read_sql(query.statement, connection)\n",
    "    \n",
    "    return df"
   ]
  },
  {
   "cell_type": "code",
   "execution_count": null,
   "metadata": {},
   "outputs": [],
   "source": [
    "aapl_minute = get_stock_data('AAPL', 'minute')\n"
   ]
  },
  {
   "cell_type": "code",
   "execution_count": 5,
   "metadata": {},
   "outputs": [],
   "source": [
    "#Daily data\n",
    "aapl_daily = get_stock_data('AAPL', 'daily')\n",
    "msft_daily = get_stock_data('MSFT', 'daily')"
   ]
  },
  {
   "cell_type": "code",
   "execution_count": null,
   "metadata": {},
   "outputs": [],
   "source": [
    "aapl_minute.to_csv('aapl_minute.csv', index=False)"
   ]
  },
  {
   "cell_type": "code",
   "execution_count": 7,
   "metadata": {},
   "outputs": [],
   "source": [
    "aapl_daily.to_csv('aapl_daily.csv', index=False)\n",
    "msft_daily.to_csv('msft_daily.csv', index=False)"
   ]
  },
  {
   "cell_type": "code",
   "execution_count": null,
   "metadata": {},
   "outputs": [],
   "source": [
    " "
   ]
  }
 ],
 "metadata": {
  "kernelspec": {
   "display_name": "base",
   "language": "python",
   "name": "python3"
  },
  "language_info": {
   "codemirror_mode": {
    "name": "ipython",
    "version": 3
   },
   "file_extension": ".py",
   "mimetype": "text/x-python",
   "name": "python",
   "nbconvert_exporter": "python",
   "pygments_lexer": "ipython3",
   "version": "3.11.7"
  }
 },
 "nbformat": 4,
 "nbformat_minor": 2
}
